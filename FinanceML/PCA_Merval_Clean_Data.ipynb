{
  "nbformat": 4,
  "nbformat_minor": 0,
  "metadata": {
    "colab": {
      "name": "PCA_Merval_Clean_Data",
      "provenance": [],
      "authorship_tag": "ABX9TyNSvnYC0+9E0jGOHXbQZi2b",
      "include_colab_link": true
    },
    "kernelspec": {
      "name": "python3",
      "display_name": "Python 3"
    },
    "language_info": {
      "name": "python"
    }
  },
  "cells": [
    {
      "cell_type": "markdown",
      "metadata": {
        "id": "view-in-github",
        "colab_type": "text"
      },
      "source": [
        "<a href=\"https://colab.research.google.com/github/gabrielfernandezf/py/blob/master/PCA_Merval_Clean_Data.ipynb\" target=\"_parent\"><img src=\"https://colab.research.google.com/assets/colab-badge.svg\" alt=\"Open In Colab\"/></a>"
      ]
    },
    {
      "cell_type": "code",
      "metadata": {
        "id": "hxBoZTDblxo5"
      },
      "source": [
        "import numpy as np\n",
        "import pandas as pd\n",
        "import matplotlib.pyplot as plt"
      ],
      "execution_count": null,
      "outputs": []
    },
    {
      "cell_type": "code",
      "metadata": {
        "colab": {
          "base_uri": "https://localhost:8080/"
        },
        "id": "72yXhVZDmNML",
        "outputId": "47ec6f6c-a9e2-40df-a550-67143441ee48"
      },
      "source": [
        "#Raw data from drive\n",
        "from google.colab import drive\n",
        "drive.mount('/content/drive')"
      ],
      "execution_count": null,
      "outputs": [
        {
          "output_type": "stream",
          "text": [
            "Mounted at /content/drive\n"
          ],
          "name": "stdout"
        }
      ]
    },
    {
      "cell_type": "code",
      "metadata": {
        "id": "otqstoRPoNAK"
      },
      "source": [
        "filename = '/content/drive/My Drive/PCA_Merval/raw_data/merval.xlsx' \n",
        "f = open(filename, \"r\")\n",
        "df = pd.read_excel(filename)"
      ],
      "execution_count": null,
      "outputs": []
    },
    {
      "cell_type": "code",
      "metadata": {
        "id": "bNbseFqWsORi"
      },
      "source": [
        "#Searching for the first row without nan\n",
        "#df.first_valid_index()\n",
        "df.iloc[4182]\n",
        "df = df[4183:-1]"
      ],
      "execution_count": null,
      "outputs": []
    },
    {
      "cell_type": "code",
      "metadata": {
        "colab": {
          "base_uri": "https://localhost:8080/",
          "height": 305
        },
        "id": "6YRLl3_-qlg5",
        "outputId": "10fa0899-9c34-4723-bacc-ac797c0cd2e1"
      },
      "source": [
        "df.head()"
      ],
      "execution_count": null,
      "outputs": [
        {
          "output_type": "execute_result",
          "data": {
            "text/html": [
              "<div>\n",
              "<style scoped>\n",
              "    .dataframe tbody tr th:only-of-type {\n",
              "        vertical-align: middle;\n",
              "    }\n",
              "\n",
              "    .dataframe tbody tr th {\n",
              "        vertical-align: top;\n",
              "    }\n",
              "\n",
              "    .dataframe thead th {\n",
              "        text-align: right;\n",
              "    }\n",
              "</style>\n",
              "<table border=\"1\" class=\"dataframe\">\n",
              "  <thead>\n",
              "    <tr style=\"text-align: right;\">\n",
              "      <th></th>\n",
              "      <th>Date</th>\n",
              "      <th>MERVAL</th>\n",
              "      <th>BMA</th>\n",
              "      <th>VALO</th>\n",
              "      <th>BBAR</th>\n",
              "      <th>SUPV</th>\n",
              "      <th>BYMA</th>\n",
              "      <th>GGAL</th>\n",
              "      <th>COME</th>\n",
              "      <th>HARG</th>\n",
              "      <th>LOMA</th>\n",
              "      <th>CEPU</th>\n",
              "      <th>EDN</th>\n",
              "      <th>TRAN</th>\n",
              "      <th>PAMP</th>\n",
              "      <th>TGSU2</th>\n",
              "      <th>TGNO4</th>\n",
              "      <th>CVH</th>\n",
              "      <th>TECO2</th>\n",
              "      <th>IRSA</th>\n",
              "      <th>CTIO</th>\n",
              "      <th>CRES</th>\n",
              "      <th>ALUA</th>\n",
              "      <th>TXAR</th>\n",
              "      <th>YPFD</th>\n",
              "      <th>MIRG</th>\n",
              "      <th>AGRO</th>\n",
              "      <th>FX</th>\n",
              "    </tr>\n",
              "  </thead>\n",
              "  <tbody>\n",
              "    <tr>\n",
              "      <th>4183</th>\n",
              "      <td>2017-11-03</td>\n",
              "      <td>27978.33</td>\n",
              "      <td>209.55</td>\n",
              "      <td>5.53</td>\n",
              "      <td>124.50</td>\n",
              "      <td>92.15</td>\n",
              "      <td>240.367</td>\n",
              "      <td>93.20</td>\n",
              "      <td>2.437</td>\n",
              "      <td>66.85</td>\n",
              "      <td>75.75</td>\n",
              "      <td>30.05</td>\n",
              "      <td>39.65</td>\n",
              "      <td>40.25</td>\n",
              "      <td>47.45</td>\n",
              "      <td>71.498</td>\n",
              "      <td>57.95</td>\n",
              "      <td>432.50</td>\n",
              "      <td>118.65</td>\n",
              "      <td>48.143</td>\n",
              "      <td>56.00</td>\n",
              "      <td>38.453</td>\n",
              "      <td>14.50</td>\n",
              "      <td>14.40</td>\n",
              "      <td>433.45</td>\n",
              "      <td>473.15</td>\n",
              "      <td>20.250</td>\n",
              "      <td>17.708531</td>\n",
              "    </tr>\n",
              "    <tr>\n",
              "      <th>4184</th>\n",
              "      <td>2017-11-07</td>\n",
              "      <td>28120.22</td>\n",
              "      <td>212.40</td>\n",
              "      <td>5.55</td>\n",
              "      <td>122.35</td>\n",
              "      <td>91.00</td>\n",
              "      <td>237.043</td>\n",
              "      <td>94.45</td>\n",
              "      <td>2.375</td>\n",
              "      <td>68.05</td>\n",
              "      <td>74.90</td>\n",
              "      <td>30.50</td>\n",
              "      <td>39.05</td>\n",
              "      <td>40.00</td>\n",
              "      <td>47.15</td>\n",
              "      <td>71.883</td>\n",
              "      <td>58.25</td>\n",
              "      <td>432.75</td>\n",
              "      <td>116.05</td>\n",
              "      <td>48.685</td>\n",
              "      <td>55.30</td>\n",
              "      <td>39.353</td>\n",
              "      <td>15.05</td>\n",
              "      <td>15.15</td>\n",
              "      <td>437.35</td>\n",
              "      <td>480.05</td>\n",
              "      <td>20.250</td>\n",
              "      <td>17.840952</td>\n",
              "    </tr>\n",
              "    <tr>\n",
              "      <th>4185</th>\n",
              "      <td>2017-11-08</td>\n",
              "      <td>28081.57</td>\n",
              "      <td>213.00</td>\n",
              "      <td>5.34</td>\n",
              "      <td>123.30</td>\n",
              "      <td>89.70</td>\n",
              "      <td>232.156</td>\n",
              "      <td>93.65</td>\n",
              "      <td>2.380</td>\n",
              "      <td>67.45</td>\n",
              "      <td>76.50</td>\n",
              "      <td>30.30</td>\n",
              "      <td>38.65</td>\n",
              "      <td>42.95</td>\n",
              "      <td>46.45</td>\n",
              "      <td>71.498</td>\n",
              "      <td>59.00</td>\n",
              "      <td>424.00</td>\n",
              "      <td>116.50</td>\n",
              "      <td>47.465</td>\n",
              "      <td>55.00</td>\n",
              "      <td>38.311</td>\n",
              "      <td>15.55</td>\n",
              "      <td>14.90</td>\n",
              "      <td>434.75</td>\n",
              "      <td>483.90</td>\n",
              "      <td>19.800</td>\n",
              "      <td>17.436232</td>\n",
              "    </tr>\n",
              "    <tr>\n",
              "      <th>4186</th>\n",
              "      <td>2017-11-09</td>\n",
              "      <td>27951.54</td>\n",
              "      <td>212.55</td>\n",
              "      <td>5.48</td>\n",
              "      <td>122.95</td>\n",
              "      <td>91.00</td>\n",
              "      <td>226.780</td>\n",
              "      <td>95.45</td>\n",
              "      <td>2.313</td>\n",
              "      <td>67.70</td>\n",
              "      <td>75.50</td>\n",
              "      <td>31.50</td>\n",
              "      <td>38.25</td>\n",
              "      <td>44.10</td>\n",
              "      <td>46.70</td>\n",
              "      <td>70.150</td>\n",
              "      <td>58.85</td>\n",
              "      <td>422.05</td>\n",
              "      <td>116.30</td>\n",
              "      <td>47.555</td>\n",
              "      <td>54.00</td>\n",
              "      <td>37.980</td>\n",
              "      <td>15.10</td>\n",
              "      <td>14.65</td>\n",
              "      <td>423.60</td>\n",
              "      <td>496.10</td>\n",
              "      <td>19.613</td>\n",
              "      <td>17.571797</td>\n",
              "    </tr>\n",
              "    <tr>\n",
              "      <th>4187</th>\n",
              "      <td>2017-11-10</td>\n",
              "      <td>27080.55</td>\n",
              "      <td>207.35</td>\n",
              "      <td>5.31</td>\n",
              "      <td>121.75</td>\n",
              "      <td>87.55</td>\n",
              "      <td>219.937</td>\n",
              "      <td>92.40</td>\n",
              "      <td>2.137</td>\n",
              "      <td>66.45</td>\n",
              "      <td>74.10</td>\n",
              "      <td>30.90</td>\n",
              "      <td>37.10</td>\n",
              "      <td>43.05</td>\n",
              "      <td>45.35</td>\n",
              "      <td>69.332</td>\n",
              "      <td>57.25</td>\n",
              "      <td>423.00</td>\n",
              "      <td>115.25</td>\n",
              "      <td>44.165</td>\n",
              "      <td>51.95</td>\n",
              "      <td>35.517</td>\n",
              "      <td>14.20</td>\n",
              "      <td>13.95</td>\n",
              "      <td>404.40</td>\n",
              "      <td>488.45</td>\n",
              "      <td>19.350</td>\n",
              "      <td>17.606707</td>\n",
              "    </tr>\n",
              "  </tbody>\n",
              "</table>\n",
              "</div>"
            ],
            "text/plain": [
              "           Date    MERVAL     BMA  VALO  ...    YPFD    MIRG    AGRO         FX\n",
              "4183 2017-11-03  27978.33  209.55  5.53  ...  433.45  473.15  20.250  17.708531\n",
              "4184 2017-11-07  28120.22  212.40  5.55  ...  437.35  480.05  20.250  17.840952\n",
              "4185 2017-11-08  28081.57  213.00  5.34  ...  434.75  483.90  19.800  17.436232\n",
              "4186 2017-11-09  27951.54  212.55  5.48  ...  423.60  496.10  19.613  17.571797\n",
              "4187 2017-11-10  27080.55  207.35  5.31  ...  404.40  488.45  19.350  17.606707\n",
              "\n",
              "[5 rows x 28 columns]"
            ]
          },
          "metadata": {
            "tags": []
          },
          "execution_count": 28
        }
      ]
    },
    {
      "cell_type": "code",
      "metadata": {
        "colab": {
          "base_uri": "https://localhost:8080/"
        },
        "id": "OPqEn9h3qsBi",
        "outputId": "a1adb6ef-6dd1-4d8d-ac2e-7ab6f89a562f"
      },
      "source": [
        "#Checking for nan values\n",
        "df.isnull().values.any()"
      ],
      "execution_count": null,
      "outputs": [
        {
          "output_type": "execute_result",
          "data": {
            "text/plain": [
              "True"
            ]
          },
          "metadata": {
            "tags": []
          },
          "execution_count": 30
        }
      ]
    },
    {
      "cell_type": "code",
      "metadata": {
        "colab": {
          "base_uri": "https://localhost:8080/"
        },
        "id": "JedRdZ1SwCAK",
        "outputId": "17b1f393-b509-4045-b789-1fdfde1d1ab5"
      },
      "source": [
        "#Sum of nan values per column\n",
        "df.isnull().sum()"
      ],
      "execution_count": null,
      "outputs": [
        {
          "output_type": "execute_result",
          "data": {
            "text/plain": [
              "Date      0\n",
              "MERVAL    0\n",
              "BMA       0\n",
              "VALO      0\n",
              "BBAR      0\n",
              "SUPV      0\n",
              "BYMA      0\n",
              "GGAL      0\n",
              "COME      0\n",
              "HARG      0\n",
              "LOMA      0\n",
              "CEPU      0\n",
              "EDN       0\n",
              "TRAN      0\n",
              "PAMP      0\n",
              "TGSU2     0\n",
              "TGNO4     0\n",
              "CVH       0\n",
              "TECO2     0\n",
              "IRSA      0\n",
              "CTIO      0\n",
              "CRES      0\n",
              "ALUA      0\n",
              "TXAR      0\n",
              "YPFD      0\n",
              "MIRG      0\n",
              "AGRO      0\n",
              "FX        9\n",
              "dtype: int64"
            ]
          },
          "metadata": {
            "tags": []
          },
          "execution_count": 32
        }
      ]
    },
    {
      "cell_type": "code",
      "metadata": {
        "colab": {
          "base_uri": "https://localhost:8080/"
        },
        "id": "PsW1vAgG3Hqj",
        "outputId": "423deee2-b9ea-4f1d-eace-70d7221421d9"
      },
      "source": [
        "#Filling nan with previous 3 values \n",
        "df = df.fillna(df.rolling(3, min_periods=1).mean().shift())\n",
        "df.isnull().sum()"
      ],
      "execution_count": null,
      "outputs": [
        {
          "output_type": "execute_result",
          "data": {
            "text/plain": [
              "Date      0\n",
              "MERVAL    0\n",
              "BMA       0\n",
              "VALO      0\n",
              "BBAR      0\n",
              "SUPV      0\n",
              "BYMA      0\n",
              "GGAL      0\n",
              "COME      0\n",
              "HARG      0\n",
              "LOMA      0\n",
              "CEPU      0\n",
              "EDN       0\n",
              "TRAN      0\n",
              "PAMP      0\n",
              "TGSU2     0\n",
              "TGNO4     0\n",
              "CVH       0\n",
              "TECO2     0\n",
              "IRSA      0\n",
              "CTIO      0\n",
              "CRES      0\n",
              "ALUA      0\n",
              "TXAR      0\n",
              "YPFD      0\n",
              "MIRG      0\n",
              "AGRO      0\n",
              "FX        0\n",
              "dtype: int64"
            ]
          },
          "metadata": {
            "tags": []
          },
          "execution_count": 39
        }
      ]
    },
    {
      "cell_type": "code",
      "metadata": {
        "id": "lDJbIkNC3Lbk"
      },
      "source": [
        "filename_clean = '/content/drive/My Drive/PCA_Merval/raw_data/merval_clean_1.0.xlsx' \n",
        "df.to_excel(filename_clean)"
      ],
      "execution_count": null,
      "outputs": []
    },
    {
      "cell_type": "code",
      "metadata": {
        "id": "KqMF2PSn1xdR"
      },
      "source": [
        ""
      ],
      "execution_count": null,
      "outputs": []
    },
    {
      "cell_type": "code",
      "metadata": {
        "id": "NpDBZABv24S7"
      },
      "source": [
        ""
      ],
      "execution_count": null,
      "outputs": []
    },
    {
      "cell_type": "code",
      "metadata": {
        "id": "m35IrHUf29HH"
      },
      "source": [
        ""
      ],
      "execution_count": null,
      "outputs": []
    }
  ]
}