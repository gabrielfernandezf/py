{
 "cells": [
  {
   "cell_type": "code",
   "execution_count": 6,
   "id": "enormous-usage",
   "metadata": {},
   "outputs": [
    {
     "name": "stdout",
     "output_type": "stream",
     "text": [
      "Cuantos dias hay que tomar: 1\n"
     ]
    }
   ],
   "source": [
    "from selenium import webdriver\n",
    "from selenium.webdriver.common.keys import Keys\n",
    "import numpy as np\n",
    "import pandas as pd\n",
    "import re\n",
    "from datetime import datetime, timedelta\n",
    "import requests\n",
    "from time import sleep\n",
    "import os\n",
    "from zipfile import ZipFile \n",
    "from pandas import ExcelWriter\n",
    "\n",
    "# Tablas\n",
    "path_tablas = \"G:/Petrini Valores/6. Reuters/\"\n",
    "\n",
    "usuario_mav = \"petrini12\"\n",
    "contra_mav = \"fernanda15\"\n",
    "\n",
    "\n",
    "n = int(input(\"Cuantos dias hay que tomar: \")) - 1\n",
    "\n",
    "driver = webdriver.Chrome(executable_path=r\"G:\\Petrini Valores\\8. Bloomberg\\Informes\\PyME\\chromedriver_win32\\chromedriver.exe\")\n",
    "\n",
    "url = \"https://trading.mav-sa.com.ar/\"\n",
    "\n",
    "driver.get(url)\n",
    "\n",
    "usuario = driver.find_element_by_xpath('//*[@id=\"UserLogin_username\"]')\n",
    "usuario.send_keys(usuario_mav)\n",
    "\n",
    "contra = driver.find_element_by_xpath('//*[@id=\"UserLogin_password\"]')\n",
    "contra.send_keys(contra_mav)\n",
    "\n",
    "driver.find_element_by_xpath('/html/body/div[2]/div/div/div[2]/div/form/p[3]/input').click()\n",
    "\n",
    "driver.get('https://trading.mav-sa.com.ar/cgi-bin/wspd_cgi.sh/WService%3Dwsbroker1/cpd-ch-operados.r')\n",
    "\n"
   ]
  },
  {
   "cell_type": "code",
   "execution_count": 7,
   "id": "pharmaceutical-bicycle",
   "metadata": {},
   "outputs": [
    {
     "name": "stdout",
     "output_type": "stream",
     "text": [
      "05/04/21\n"
     ]
    },
    {
     "ename": "IndexError",
     "evalue": "list index out of range",
     "output_type": "error",
     "traceback": [
      "\u001b[1;31m---------------------------------------------------------------------------\u001b[0m",
      "\u001b[1;31mIndexError\u001b[0m                                Traceback (most recent call last)",
      "\u001b[1;32m<ipython-input-7-b54af515bd02>\u001b[0m in \u001b[0;36m<module>\u001b[1;34m\u001b[0m\n\u001b[0;32m     21\u001b[0m \u001b[1;33m\u001b[0m\u001b[0m\n\u001b[0;32m     22\u001b[0m \u001b[0mxlsxfiles\u001b[0m\u001b[1;33m.\u001b[0m\u001b[0msort\u001b[0m\u001b[1;33m(\u001b[0m\u001b[1;33m)\u001b[0m\u001b[1;33m\u001b[0m\u001b[1;33m\u001b[0m\u001b[0m\n\u001b[1;32m---> 23\u001b[1;33m \u001b[0mx\u001b[0m \u001b[1;33m=\u001b[0m \u001b[1;33m[\u001b[0m\u001b[0mxlsxfiles\u001b[0m\u001b[1;33m[\u001b[0m\u001b[1;33m-\u001b[0m\u001b[1;36m1\u001b[0m\u001b[1;33m]\u001b[0m\u001b[1;33m]\u001b[0m\u001b[1;33m\u001b[0m\u001b[1;33m\u001b[0m\u001b[0m\n\u001b[0m\u001b[0;32m     24\u001b[0m \u001b[1;33m\u001b[0m\u001b[0m\n\u001b[0;32m     25\u001b[0m \u001b[0mx\u001b[0m\u001b[1;33m.\u001b[0m\u001b[0mextend\u001b[0m\u001b[1;33m(\u001b[0m\u001b[0mxlsxfiles\u001b[0m\u001b[1;33m[\u001b[0m\u001b[1;33m:\u001b[0m\u001b[1;33m-\u001b[0m\u001b[1;36m1\u001b[0m\u001b[1;33m]\u001b[0m\u001b[1;33m)\u001b[0m\u001b[1;33m\u001b[0m\u001b[1;33m\u001b[0m\u001b[0m\n",
      "\u001b[1;31mIndexError\u001b[0m: list index out of range"
     ]
    }
   ],
   "source": [
    "i = 1\n",
    "\n",
    "while n >= 0:\n",
    "    opciones = driver.find_element_by_xpath('/html/body/table[2]/tbody/tr/td[2]/select')\n",
    "    option = opciones.find_elements_by_tag_name('option')\n",
    "    \n",
    "    print(option[i].text)\n",
    "    option[i].click()\n",
    "    \n",
    "    driver.find_element_by_xpath('/html/body/table[2]/tbody/tr/td[3]/a[2]/b').click()\n",
    "    \n",
    "    n -= 1\n",
    "    i += 1\n",
    "\n",
    "sleep(3*(i))\n",
    "\n",
    "path = r\"C:\\Users\\Bloomberg\\Descargas\"\n",
    "\n",
    "xlsxfiles = [os.path.join(root, name) for root, dirs, files in os.walk(path) for name in files if name.endswith(\".xls\") and name.startswith(\"CPD-cheques-operados (\")]\n",
    "\n",
    "\n",
    "xlsxfiles.sort()\n",
    "x = [xlsxfiles[-1]]\n",
    "\n",
    "x.extend(xlsxfiles[:-1])"
   ]
  },
  {
   "cell_type": "code",
   "execution_count": 44,
   "id": "palestinian-intensity",
   "metadata": {},
   "outputs": [],
   "source": [
    "driver.get('https://trading.mav-sa.com.ar/cgi-bin/wspd_cgi.sh/WService=wsbroker1/logout.html')\n",
    "driver.find_element_by_xpath('/html/body/div[2]/div/div/div[2]/div/form/center/strong/strong/center/p[2]/input').click()"
   ]
  },
  {
   "cell_type": "code",
   "execution_count": null,
   "id": "tutorial-dispatch",
   "metadata": {},
   "outputs": [],
   "source": [
    "\n",
    "\n",
    "driver.get('https://trading.mav-sa.com.ar/cgi-bin/wspd_cgi.sh/WService=wsbroker1/logout.html')\n",
    "driver.find_element_by_xpath('/html/body/div[2]/div/div/div[2]/div/form/center/strong/strong/center/p[2]/input').click()\n",
    "\n",
    "tablas = pd.DataFrame({})\n",
    "\n",
    "for excel in x:\n",
    "    \n",
    "    book = pd.read_html(excel)[0]\n",
    "    \n",
    "    book.columns = book.iloc[book.iloc[:,0].tolist().index(\"ID Cheque\"),:].tolist()\n",
    "    book = book.iloc[book.iloc[:,0].tolist().index(\"ID Cheque\")+1:,:]\n",
    "    \n",
    "    tablas = pd.concat([tablas, book])\n",
    "    os.remove(excel)\n",
    "    print(excel + \" Removed!\")\n",
    "\n",
    "tablas[[\"Plazo\",\"Monto Nominal\",\"Monto Liquidado\"]] = tablas[[\"Plazo\",\"Monto Nominal\",\"Monto Liquidado\"]].astype(float)\n",
    "tablas.to_excel(path_tablas + \"CDP-cheques-operados-\" + datetime.today().strftime(\"%Y-%m-%d\") + \".xlsx\")\n",
    "\n"
   ]
  }
 ],
 "metadata": {
  "kernelspec": {
   "display_name": "Python 3",
   "language": "python",
   "name": "python3"
  },
  "language_info": {
   "codemirror_mode": {
    "name": "ipython",
    "version": 3
   },
   "file_extension": ".py",
   "mimetype": "text/x-python",
   "name": "python",
   "nbconvert_exporter": "python",
   "pygments_lexer": "ipython3",
   "version": "3.8.3"
  }
 },
 "nbformat": 4,
 "nbformat_minor": 5
}
