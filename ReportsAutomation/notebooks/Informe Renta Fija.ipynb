{
 "cells": [
  {
   "cell_type": "code",
   "execution_count": 11,
   "id": "synthetic-attendance",
   "metadata": {},
   "outputs": [],
   "source": [
    "from fpdf import FPDF\n",
    "from datetime import datetime, timedelta\n",
    "import os\n",
    "\n",
    "from datetime import date"
   ]
  },
  {
   "cell_type": "code",
   "execution_count": 12,
   "id": "electoral-headset",
   "metadata": {},
   "outputs": [],
   "source": [
    "WIDTH = 210\n",
    "HEIGHT = 297\n",
    "\n",
    "DATE = date.today()\n",
    "#DATE = \"10/10/20\"\n",
    "\n",
    "encabezado = r\"C:\\Users\\Bloomberg\\Desktop\\Gabriel\\encabezado.png\"\n",
    "logo = r\"C:\\Users\\Bloomberg\\Desktop\\Gabriel\\logo.png\"\n",
    "tabla_sob = r\"C:\\Users\\Bloomberg\\Desktop\\Gabriel\\SoberanosUSD.png\"\n",
    "tabla_pr = r\"C:\\Users\\Bloomberg\\Desktop\\Gabriel\\ProvincialesUSD.png\"\n",
    "footer = r\"C:\\Users\\Bloomberg\\Desktop\\Gabriel\\footer2.png\"\n",
    "\n",
    "graf_sob = r\"C:\\Users\\Bloomberg\\Desktop\\Gabriel\\Soberanos_USD.png\"\n",
    "graf_pr = r\"C:\\Users\\Bloomberg\\Desktop\\Gabriel\\Provinciales_USD.png\"\n",
    "\n",
    "blanco = [255,255,255]\n",
    "\n",
    "font = 'opensans'"
   ]
  },
  {
   "cell_type": "code",
   "execution_count": 13,
   "id": "saving-chorus",
   "metadata": {},
   "outputs": [],
   "source": [
    "def create_title(day, pdf):\n",
    "    pdf.add_font(font,'', r\"C:\\Users\\Bloomberg\\Downloads\\Open_Sans\\OpenSans-Regular.ttf\", uni=True)\n",
    "    pdf.set_font(font, '', 13)  \n",
    "    pdf.set_text_color(23, 49, 76)\n",
    "    pdf.ln(25)\n",
    "    pdf.write(5, f'{day}')\n",
    "    pdf.set_font(font, '', 13)\n",
    "    pdf.set_text_color(23, 49, 76)\n",
    "    pdf.ln(7)\n",
    "    pdf.write(5, f'BONOS SOBERANOS EN USD')\n",
    "    pdf.set_font(font, '', 13)  \n",
    "    pdf.set_text_color(23, 49, 76)\n",
    "    pdf.ln(90)\n",
    "    pdf.write(5, f\"BONOS PROVINCIALES EN USD\")\n",
    "\n",
    "def create_title_graf(day, pdf):\n",
    "    pdf.add_font(font,'', r\"C:\\Users\\Bloomberg\\Downloads\\Open_Sans\\OpenSans-Regular.ttf\", uni=True)\n",
    "    pdf.set_font(font, '', 13)  \n",
    "    pdf.set_text_color(23, 49, 76)\n",
    "    pdf.ln(25)\n",
    "    pdf.write(5, f'{day}')\n",
    "    pdf.set_font(font, '', 13)\n",
    "    pdf.set_text_color(23, 49, 76)\n",
    "    pdf.ln(7)\n",
    "    pdf.write(5, f'BONOS SOBERANOS EN USD')\n",
    "    pdf.set_font(font, '', 13)  \n",
    "    pdf.set_text_color(23, 49, 76)\n",
    "    pdf.ln(125)\n",
    "    pdf.write(5, f\"BONOS PROVINCIALES EN USD\")    \n",
    "\n",
    "    \n",
    "    \n",
    "def create_analytics_report(day=DATE, filename=\"report.pdf\"):\n",
    "    pdf = FPDF() # A4 (210 by 297 mm)\n",
    "    \n",
    "    pdf.add_page()\n",
    "    pdf.image(encabezado, 0, 0, WIDTH)\n",
    "    pdf.image(tabla_sob, 2.5, 50, WIDTH-5)\n",
    "    pdf.image(tabla_pr, 2.5, 140, WIDTH-5)\n",
    "    pdf.image(footer, 0, 285, WIDTH)\n",
    "    create_title(day, pdf)\n",
    "    \n",
    "    pdf.add_page()\n",
    "    pdf.image(encabezado, 0, 0, WIDTH)\n",
    "    pdf.image(graf_sob, 5, 50, WIDTH-10)\n",
    "    pdf.image(graf_pr, 5, 175, WIDTH-10)\n",
    "    pdf.image(footer, 0, 285, WIDTH)\n",
    "    create_title_graf(day, pdf)\n",
    "    pdf.output(filename, 'F')\n",
    "\n",
    "\n",
    "if __name__ == '__main__':\n",
    "    yesterday = (datetime.today() - timedelta(days=1)).strftime(\"%m/%d/%y\").replace(\"/0\",\"/\").lstrip(\"0\")\n",
    "    yesterday = DATE \n",
    "  \n",
    "    create_analytics_report(yesterday)"
   ]
  },
  {
   "cell_type": "code",
   "execution_count": null,
   "id": "prostate-logic",
   "metadata": {},
   "outputs": [],
   "source": []
  }
 ],
 "metadata": {
  "kernelspec": {
   "display_name": "Python 3",
   "language": "python",
   "name": "python3"
  },
  "language_info": {
   "codemirror_mode": {
    "name": "ipython",
    "version": 3
   },
   "file_extension": ".py",
   "mimetype": "text/x-python",
   "name": "python",
   "nbconvert_exporter": "python",
   "pygments_lexer": "ipython3",
   "version": "3.8.3"
  }
 },
 "nbformat": 4,
 "nbformat_minor": 5
}
