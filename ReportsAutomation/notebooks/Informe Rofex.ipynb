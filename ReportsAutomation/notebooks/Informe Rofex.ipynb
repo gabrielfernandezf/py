{
 "cells": [
  {
   "cell_type": "code",
   "execution_count": 2,
   "id": "synthetic-attendance",
   "metadata": {},
   "outputs": [],
   "source": [
    "from fpdf import FPDF\n",
    "from datetime import datetime, timedelta\n",
    "import os\n",
    "\n",
    "from datetime import date"
   ]
  },
  {
   "cell_type": "code",
   "execution_count": 3,
   "id": "electoral-headset",
   "metadata": {},
   "outputs": [],
   "source": [
    "WIDTH = 210\n",
    "HEIGHT = 297\n",
    "\n",
    "DATE = date.today()\n",
    "\n",
    "encabezado = r\"C:\\Users\\Bloomberg\\Desktop\\Gabriel\\encabezado_rofex.png\"\n",
    "logo = r\"C:\\Users\\Bloomberg\\Desktop\\Gabriel\\logo.png\"\n",
    "tabla_rofex = r\"C:\\Users\\Bloomberg\\Desktop\\Gabriel\\Rofex.png\"\n",
    "curva_rofex = r\"C:\\Users\\Bloomberg\\Desktop\\Gabriel\\rofex_curva.png\"\n",
    "footer = r\"C:\\Users\\Bloomberg\\Desktop\\Gabriel\\footer2.png\"\n",
    "\n",
    "graf_sob = r\"C:\\Users\\Bloomberg\\Desktop\\Gabriel\\Soberanos_USD.png\"\n",
    "\n",
    "\n",
    "blanco = [255,255,255]\n",
    "\n",
    "font = 'opensans'"
   ]
  },
  {
   "cell_type": "code",
   "execution_count": 9,
   "id": "saving-chorus",
   "metadata": {},
   "outputs": [],
   "source": [
    "def create_title_etf(day, pdf):\n",
    "    pdf.add_font(font,'', r\"C:\\Users\\Bloomberg\\Downloads\\Open_Sans\\OpenSans-Regular.ttf\", uni=True)\n",
    "    pdf.set_font(font, '', 13)  \n",
    "    pdf.set_text_color(23, 49, 76)\n",
    "    pdf.ln(25)\n",
    "    pdf.write(5, f'{day}')\n",
    "    pdf.set_font(font, '', 13)\n",
    "    pdf.set_text_color(23, 49, 76)\n",
    "    pdf.ln(7)\n",
    "    pdf.write(5, f'CONTRATOS DE FUTUROS DE DÓLAR')\n",
    "    \n",
    "def create_analytics_report(day=DATE, filename=\"Informe_Rofex.pdf\"):\n",
    "    pdf = FPDF() # A4 (210 by 297 mm)\n",
    "    \n",
    "    pdf.add_page()\n",
    "    pdf.image(encabezado, 0, 0, WIDTH)\n",
    "    pdf.image(tabla_rofex, 2.5, 50, WIDTH-5)\n",
    "    pdf.image(curva_rofex, 2, 120, WIDTH-5)\n",
    "    pdf.image(footer, 0, 285, WIDTH)\n",
    "    create_title_etf(day, pdf)\n",
    "    \n",
    "    #pdf.add_page()\n",
    "    #pdf.image(encabezado, 0, 0, WIDTH)\n",
    "    #pdf.image(graf_sob, 5, 50, WIDTH-10)\n",
    "    #pdf.image(graf_pr, 5, 175, WIDTH-10)\n",
    "    #pdf.image(footer, 0, 285, WIDTH)\n",
    "    #create_title_graf(day, pdf)\n",
    "    pdf.output(filename, 'F')\n",
    "\n",
    "\n",
    "if __name__ == '__main__':\n",
    "    yesterday = (datetime.today() - timedelta(days=1)).strftime(\"%m/%d/%y\").replace(\"/0\",\"/\").lstrip(\"0\")\n",
    "    yesterday = DATE \n",
    "  \n",
    "    create_analytics_report(yesterday)"
   ]
  },
  {
   "cell_type": "code",
   "execution_count": null,
   "id": "prostate-logic",
   "metadata": {},
   "outputs": [],
   "source": []
  }
 ],
 "metadata": {
  "kernelspec": {
   "display_name": "Python 3",
   "language": "python",
   "name": "python3"
  },
  "language_info": {
   "codemirror_mode": {
    "name": "ipython",
    "version": 3
   },
   "file_extension": ".py",
   "mimetype": "text/x-python",
   "name": "python",
   "nbconvert_exporter": "python",
   "pygments_lexer": "ipython3",
   "version": "3.8.3"
  }
 },
 "nbformat": 4,
 "nbformat_minor": 5
}
