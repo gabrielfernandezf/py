{
  "nbformat": 4,
  "nbformat_minor": 0,
  "metadata": {
    "colab": {
      "name": "world_bank.ipynb",
      "provenance": [],
      "authorship_tag": "ABX9TyNqUvpNoiIkOBvvQ4cySP4M",
      "include_colab_link": true
    },
    "kernelspec": {
      "name": "python3",
      "display_name": "Python 3"
    },
    "language_info": {
      "name": "python"
    }
  },
  "cells": [
    {
      "cell_type": "markdown",
      "metadata": {
        "id": "view-in-github",
        "colab_type": "text"
      },
      "source": [
        "<a href=\"https://colab.research.google.com/github/gabrielfernandezf/py/blob/main/world_bank.ipynb\" target=\"_parent\"><img src=\"https://colab.research.google.com/assets/colab-badge.svg\" alt=\"Open In Colab\"/></a>"
      ]
    },
    {
      "cell_type": "markdown",
      "source": [
        "https://nbviewer.org/github/tgherzog/wbgapi/blob/master/examples/wbgapi-cookbook.ipynb"
      ],
      "metadata": {
        "id": "AC0W7_TU789i"
      }
    },
    {
      "cell_type": "code",
      "execution_count": null,
      "metadata": {
        "colab": {
          "base_uri": "https://localhost:8080/"
        },
        "id": "GWHcmWlL375Z",
        "outputId": "73fd7758-64a4-478a-ac05-e2a1b6942499"
      },
      "outputs": [
        {
          "output_type": "stream",
          "name": "stdout",
          "text": [
            "Looking in indexes: https://pypi.org/simple, https://us-python.pkg.dev/colab-wheels/public/simple/\n",
            "Requirement already satisfied: wbgapi in /usr/local/lib/python3.7/dist-packages (1.0.12)\n",
            "Requirement already satisfied: requests in /usr/local/lib/python3.7/dist-packages (from wbgapi) (2.23.0)\n",
            "Requirement already satisfied: PyYAML in /usr/local/lib/python3.7/dist-packages (from wbgapi) (3.13)\n",
            "Requirement already satisfied: tabulate in /usr/local/lib/python3.7/dist-packages (from wbgapi) (0.8.10)\n",
            "Requirement already satisfied: idna<3,>=2.5 in /usr/local/lib/python3.7/dist-packages (from requests->wbgapi) (2.10)\n",
            "Requirement already satisfied: urllib3!=1.25.0,!=1.25.1,<1.26,>=1.21.1 in /usr/local/lib/python3.7/dist-packages (from requests->wbgapi) (1.24.3)\n",
            "Requirement already satisfied: certifi>=2017.4.17 in /usr/local/lib/python3.7/dist-packages (from requests->wbgapi) (2022.6.15)\n",
            "Requirement already satisfied: chardet<4,>=3.0.2 in /usr/local/lib/python3.7/dist-packages (from requests->wbgapi) (3.0.4)\n"
          ]
        }
      ],
      "source": [
        "!pip install wbgapi"
      ]
    },
    {
      "cell_type": "code",
      "source": [
        "import wbgapi as wb   # I use wb as a namespace in all my work\n",
        "import pandas as pd   # optional but highly recommended for wbgapi\n",
        "import matplotlib.pyplot as plt\n",
        "import missingno as msno\n",
        "%matplotlib inline"
      ],
      "metadata": {
        "id": "f2HwwJvw4XWe"
      },
      "execution_count": null,
      "outputs": []
    },
    {
      "cell_type": "code",
      "source": [
        "wb.series.info(q='energy')\n",
        "# wb.search('pound')"
      ],
      "metadata": {
        "colab": {
          "base_uri": "https://localhost:8080/",
          "height": 425
        },
        "id": "zQSWIzI74glN",
        "outputId": "409fa76c-f65a-47f1-da9f-ccb5161d2181"
      },
      "execution_count": null,
      "outputs": [
        {
          "output_type": "execute_result",
          "data": {
            "text/plain": [
              "id                    value\n",
              "--------------------  ---------------------------------------------------------------------------------\n",
              "EG.EGY.PRIM.PP.KD     Energy intensity level of primary energy (MJ/$2017 PPP GDP)\n",
              "EG.FEC.RNEW.ZS        Renewable energy consumption (% of total final energy consumption)\n",
              "EG.GDP.PUSE.KO.PP     GDP per unit of energy use (PPP $ per kg of oil equivalent)\n",
              "EG.GDP.PUSE.KO.PP.KD  GDP per unit of energy use (constant 2017 PPP $ per kg of oil equivalent)\n",
              "EG.IMP.CONS.ZS        Energy imports, net (% of energy use)\n",
              "EG.USE.COMM.CL.ZS     Alternative and nuclear energy (% of total energy use)\n",
              "EG.USE.COMM.FO.ZS     Fossil fuel energy consumption (% of total)\n",
              "EG.USE.COMM.GD.PP.KD  Energy use (kg of oil equivalent) per $1,000 GDP (constant 2017 PPP)\n",
              "EG.USE.PCAP.KG.OE     Energy use (kg of oil equivalent per capita)\n",
              "EN.ATM.METH.EG.KT.CE  Methane emissions in energy sector (thousand metric tons of CO2 equivalent)\n",
              "EN.ATM.METH.EG.ZS     Energy related methane emissions (% of total)\n",
              "EN.ATM.NOXE.EG.KT.CE  Nitrous oxide emissions in energy sector (thousand metric tons of CO2 equivalent)\n",
              "EN.ATM.NOXE.EG.ZS     Nitrous oxide emissions in energy sector (% of total)\n",
              "IE.PPI.ENGY.CD        Investment in energy with private participation (current US$)\n",
              "IE.PPN.ENGY.CD        Public private partnerships investment in energy (current US$)\n",
              "NY.ADJ.DNGY.CD        Adjusted savings: energy depletion (current US$)\n",
              "NY.ADJ.DNGY.GN.ZS     Adjusted savings: energy depletion (% of GNI)\n",
              "                      17 elements"
            ],
            "text/html": [
              "<div class=\"wbgapi\"><table>\n",
              "<thead>\n",
              "<tr><th>id                  </th><th>value                                                                            </th></tr>\n",
              "</thead>\n",
              "<tbody>\n",
              "<tr><td>EG.EGY.PRIM.PP.KD   </td><td>Energy intensity level of primary energy (MJ/$2017 PPP GDP)                      </td></tr>\n",
              "<tr><td>EG.FEC.RNEW.ZS      </td><td>Renewable energy consumption (% of total final energy consumption)               </td></tr>\n",
              "<tr><td>EG.GDP.PUSE.KO.PP   </td><td>GDP per unit of energy use (PPP $ per kg of oil equivalent)                      </td></tr>\n",
              "<tr><td>EG.GDP.PUSE.KO.PP.KD</td><td>GDP per unit of energy use (constant 2017 PPP $ per kg of oil equivalent)        </td></tr>\n",
              "<tr><td>EG.IMP.CONS.ZS      </td><td>Energy imports, net (% of energy use)                                            </td></tr>\n",
              "<tr><td>EG.USE.COMM.CL.ZS   </td><td>Alternative and nuclear energy (% of total energy use)                           </td></tr>\n",
              "<tr><td>EG.USE.COMM.FO.ZS   </td><td>Fossil fuel energy consumption (% of total)                                      </td></tr>\n",
              "<tr><td>EG.USE.COMM.GD.PP.KD</td><td>Energy use (kg of oil equivalent) per $1,000 GDP (constant 2017 PPP)             </td></tr>\n",
              "<tr><td>EG.USE.PCAP.KG.OE   </td><td>Energy use (kg of oil equivalent per capita)                                     </td></tr>\n",
              "<tr><td>EN.ATM.METH.EG.KT.CE</td><td>Methane emissions in energy sector (thousand metric tons of CO2 equivalent)      </td></tr>\n",
              "<tr><td>EN.ATM.METH.EG.ZS   </td><td>Energy related methane emissions (% of total)                                    </td></tr>\n",
              "<tr><td>EN.ATM.NOXE.EG.KT.CE</td><td>Nitrous oxide emissions in energy sector (thousand metric tons of CO2 equivalent)</td></tr>\n",
              "<tr><td>EN.ATM.NOXE.EG.ZS   </td><td>Nitrous oxide emissions in energy sector (% of total)                            </td></tr>\n",
              "<tr><td>IE.PPI.ENGY.CD      </td><td>Investment in energy with private participation (current US$)                    </td></tr>\n",
              "<tr><td>IE.PPN.ENGY.CD      </td><td>Public private partnerships investment in energy (current US$)                   </td></tr>\n",
              "<tr><td>NY.ADJ.DNGY.CD      </td><td>Adjusted savings: energy depletion (current US$)                                 </td></tr>\n",
              "<tr><td>NY.ADJ.DNGY.GN.ZS   </td><td>Adjusted savings: energy depletion (% of GNI)                                    </td></tr>\n",
              "<tr><td>                    </td><td>17 elements                                                                      </td></tr>\n",
              "</tbody>\n",
              "</table></div>"
            ]
          },
          "metadata": {},
          "execution_count": 47
        }
      ]
    },
    {
      "cell_type": "markdown",
      "source": [
        "###DATA QUERIES"
      ],
      "metadata": {
        "id": "9zwDatJ84rO6"
      }
    },
    {
      "cell_type": "code",
      "source": [
        "energy = ['TX.VAL.MMTL.ZS.UN', 'IE.PPI.ENGY.CD', 'NY.GDP.MINR.RT.ZS',\n",
        "          'NY.GDP.NGAS.RT.ZS', 'NY.GDP.PETR.RT.ZS', 'TM.VAL.FUEL.ZS.UN',\n",
        "          'TX.VAL.FUEL.ZS.UN']"
      ],
      "metadata": {
        "id": "lZYYQDogwdcs"
      },
      "execution_count": null,
      "outputs": []
    },
    {
      "cell_type": "code",
      "source": [
        "world_bank = wb.data.DataFrame(energy, time=range(2016, 2021, 1), labels=True)"
      ],
      "metadata": {
        "id": "DCAeyQ2Cwdi4"
      },
      "execution_count": null,
      "outputs": []
    },
    {
      "cell_type": "code",
      "source": [
        "world_bank['average'] = world_bank.mean(numeric_only=True, axis=1)"
      ],
      "metadata": {
        "id": "aj9nA_xUxzYe"
      },
      "execution_count": null,
      "outputs": []
    },
    {
      "cell_type": "code",
      "source": [
        "wb_data = pd.DataFrame(world_bank)\n",
        "wb_data = wb_data.reset_index()"
      ],
      "metadata": {
        "id": "duTQCxnd2IsE"
      },
      "execution_count": null,
      "outputs": []
    },
    {
      "cell_type": "code",
      "source": [
        "wb_data = wb_data[['economy', 'series','Series', 'average']]"
      ],
      "metadata": {
        "id": "hPXAA0K2xegT"
      },
      "execution_count": null,
      "outputs": []
    },
    {
      "cell_type": "code",
      "source": [
        "wb_data.head(1)"
      ],
      "metadata": {
        "colab": {
          "base_uri": "https://localhost:8080/",
          "height": 81
        },
        "id": "9uiJE394We7s",
        "outputId": "c9fffcb6-5015-441a-bc27-a46446a8e86c"
      },
      "execution_count": null,
      "outputs": [
        {
          "output_type": "execute_result",
          "data": {
            "text/plain": [
              "  economy             series  \\\n",
              "0     ZWE  TX.VAL.MMTL.ZS.UN   \n",
              "\n",
              "                                              Series    average  \n",
              "0  Ores and metals exports (% of merchandise expo...  34.472279  "
            ],
            "text/html": [
              "\n",
              "  <div id=\"df-2cf8dc1d-d8ef-452a-877e-11fc02990e14\">\n",
              "    <div class=\"colab-df-container\">\n",
              "      <div>\n",
              "<style scoped>\n",
              "    .dataframe tbody tr th:only-of-type {\n",
              "        vertical-align: middle;\n",
              "    }\n",
              "\n",
              "    .dataframe tbody tr th {\n",
              "        vertical-align: top;\n",
              "    }\n",
              "\n",
              "    .dataframe thead th {\n",
              "        text-align: right;\n",
              "    }\n",
              "</style>\n",
              "<table border=\"1\" class=\"dataframe\">\n",
              "  <thead>\n",
              "    <tr style=\"text-align: right;\">\n",
              "      <th></th>\n",
              "      <th>economy</th>\n",
              "      <th>series</th>\n",
              "      <th>Series</th>\n",
              "      <th>average</th>\n",
              "    </tr>\n",
              "  </thead>\n",
              "  <tbody>\n",
              "    <tr>\n",
              "      <th>0</th>\n",
              "      <td>ZWE</td>\n",
              "      <td>TX.VAL.MMTL.ZS.UN</td>\n",
              "      <td>Ores and metals exports (% of merchandise expo...</td>\n",
              "      <td>34.472279</td>\n",
              "    </tr>\n",
              "  </tbody>\n",
              "</table>\n",
              "</div>\n",
              "      <button class=\"colab-df-convert\" onclick=\"convertToInteractive('df-2cf8dc1d-d8ef-452a-877e-11fc02990e14')\"\n",
              "              title=\"Convert this dataframe to an interactive table.\"\n",
              "              style=\"display:none;\">\n",
              "        \n",
              "  <svg xmlns=\"http://www.w3.org/2000/svg\" height=\"24px\"viewBox=\"0 0 24 24\"\n",
              "       width=\"24px\">\n",
              "    <path d=\"M0 0h24v24H0V0z\" fill=\"none\"/>\n",
              "    <path d=\"M18.56 5.44l.94 2.06.94-2.06 2.06-.94-2.06-.94-.94-2.06-.94 2.06-2.06.94zm-11 1L8.5 8.5l.94-2.06 2.06-.94-2.06-.94L8.5 2.5l-.94 2.06-2.06.94zm10 10l.94 2.06.94-2.06 2.06-.94-2.06-.94-.94-2.06-.94 2.06-2.06.94z\"/><path d=\"M17.41 7.96l-1.37-1.37c-.4-.4-.92-.59-1.43-.59-.52 0-1.04.2-1.43.59L10.3 9.45l-7.72 7.72c-.78.78-.78 2.05 0 2.83L4 21.41c.39.39.9.59 1.41.59.51 0 1.02-.2 1.41-.59l7.78-7.78 2.81-2.81c.8-.78.8-2.07 0-2.86zM5.41 20L4 18.59l7.72-7.72 1.47 1.35L5.41 20z\"/>\n",
              "  </svg>\n",
              "      </button>\n",
              "      \n",
              "  <style>\n",
              "    .colab-df-container {\n",
              "      display:flex;\n",
              "      flex-wrap:wrap;\n",
              "      gap: 12px;\n",
              "    }\n",
              "\n",
              "    .colab-df-convert {\n",
              "      background-color: #E8F0FE;\n",
              "      border: none;\n",
              "      border-radius: 50%;\n",
              "      cursor: pointer;\n",
              "      display: none;\n",
              "      fill: #1967D2;\n",
              "      height: 32px;\n",
              "      padding: 0 0 0 0;\n",
              "      width: 32px;\n",
              "    }\n",
              "\n",
              "    .colab-df-convert:hover {\n",
              "      background-color: #E2EBFA;\n",
              "      box-shadow: 0px 1px 2px rgba(60, 64, 67, 0.3), 0px 1px 3px 1px rgba(60, 64, 67, 0.15);\n",
              "      fill: #174EA6;\n",
              "    }\n",
              "\n",
              "    [theme=dark] .colab-df-convert {\n",
              "      background-color: #3B4455;\n",
              "      fill: #D2E3FC;\n",
              "    }\n",
              "\n",
              "    [theme=dark] .colab-df-convert:hover {\n",
              "      background-color: #434B5C;\n",
              "      box-shadow: 0px 1px 3px 1px rgba(0, 0, 0, 0.15);\n",
              "      filter: drop-shadow(0px 1px 2px rgba(0, 0, 0, 0.3));\n",
              "      fill: #FFFFFF;\n",
              "    }\n",
              "  </style>\n",
              "\n",
              "      <script>\n",
              "        const buttonEl =\n",
              "          document.querySelector('#df-2cf8dc1d-d8ef-452a-877e-11fc02990e14 button.colab-df-convert');\n",
              "        buttonEl.style.display =\n",
              "          google.colab.kernel.accessAllowed ? 'block' : 'none';\n",
              "\n",
              "        async function convertToInteractive(key) {\n",
              "          const element = document.querySelector('#df-2cf8dc1d-d8ef-452a-877e-11fc02990e14');\n",
              "          const dataTable =\n",
              "            await google.colab.kernel.invokeFunction('convertToInteractive',\n",
              "                                                     [key], {});\n",
              "          if (!dataTable) return;\n",
              "\n",
              "          const docLinkHtml = 'Like what you see? Visit the ' +\n",
              "            '<a target=\"_blank\" href=https://colab.research.google.com/notebooks/data_table.ipynb>data table notebook</a>'\n",
              "            + ' to learn more about interactive tables.';\n",
              "          element.innerHTML = '';\n",
              "          dataTable['output_type'] = 'display_data';\n",
              "          await google.colab.output.renderOutput(dataTable, element);\n",
              "          const docLink = document.createElement('div');\n",
              "          docLink.innerHTML = docLinkHtml;\n",
              "          element.appendChild(docLink);\n",
              "        }\n",
              "      </script>\n",
              "    </div>\n",
              "  </div>\n",
              "  "
            ]
          },
          "metadata": {},
          "execution_count": 53
        }
      ]
    },
    {
      "cell_type": "code",
      "source": [
        "variables = wb_data[['series', 'Series']].drop_duplicates()"
      ],
      "metadata": {
        "id": "t2qaFk97lzBs"
      },
      "execution_count": null,
      "outputs": []
    },
    {
      "cell_type": "code",
      "source": [
        "var = wb_data['series'].unique()\n",
        "var"
      ],
      "metadata": {
        "colab": {
          "base_uri": "https://localhost:8080/"
        },
        "id": "kBsu2qpqXDX2",
        "outputId": "ef8928ea-458b-4c75-f4ed-4567dfbe27b5"
      },
      "execution_count": null,
      "outputs": [
        {
          "output_type": "execute_result",
          "data": {
            "text/plain": [
              "array(['TX.VAL.MMTL.ZS.UN', 'IE.PPI.ENGY.CD', 'NY.GDP.MINR.RT.ZS',\n",
              "       'NY.GDP.NGAS.RT.ZS', 'NY.GDP.PETR.RT.ZS', 'TM.VAL.FUEL.ZS.UN',\n",
              "       'TX.VAL.FUEL.ZS.UN'], dtype=object)"
            ]
          },
          "metadata": {},
          "execution_count": 55
        }
      ]
    },
    {
      "cell_type": "code",
      "source": [
        "wb_data = wb_data.pivot(index='economy', columns='series', values='average')\n"
      ],
      "metadata": {
        "id": "HiVfN7fQlhwt"
      },
      "execution_count": null,
      "outputs": []
    },
    {
      "cell_type": "code",
      "source": [
        "df_wb = wb_data.dropna()"
      ],
      "metadata": {
        "id": "kxw1GFemnytN"
      },
      "execution_count": null,
      "outputs": []
    },
    {
      "cell_type": "code",
      "source": [
        "msno.matrix(df_wb)"
      ],
      "metadata": {
        "colab": {
          "base_uri": "https://localhost:8080/",
          "height": 634
        },
        "id": "am8VNXxmnIoD",
        "outputId": "6c9033c7-cd80-4ddf-8469-22d5997bd248"
      },
      "execution_count": null,
      "outputs": [
        {
          "output_type": "execute_result",
          "data": {
            "text/plain": [
              "<matplotlib.axes._subplots.AxesSubplot at 0x7f9949a76590>"
            ]
          },
          "metadata": {},
          "execution_count": 59
        },
        {
          "output_type": "display_data",
          "data": {
            "text/plain": [
              "<Figure size 1800x720 with 2 Axes>"
            ],
            "image/png": "[encoded data removed]"
          },
          "metadata": {
            "needs_background": "light"
          }
        }
      ]
    },
    {
      "cell_type": "code",
      "source": [
        "df_wb.shape"
      ],
      "metadata": {
        "colab": {
          "base_uri": "https://localhost:8080/"
        },
        "id": "g4Qd7dM2nR0D",
        "outputId": "085341f1-7c9b-4515-b39b-7d77eaab0fd7"
      },
      "execution_count": null,
      "outputs": [
        {
          "output_type": "execute_result",
          "data": {
            "text/plain": [
              "(92, 7)"
            ]
          },
          "metadata": {},
          "execution_count": 60
        }
      ]
    },
    {
      "cell_type": "code",
      "source": [
        "# A1,A2,A3,A4,A5,A6,A7 = ['TX.VAL.MMTL.ZS.UN','IE.PPI.ENGY.CD','NY.GDP.MINR.RT.ZS',\n",
        "# 'NY.GDP.NGAS.RT.ZS', 'NY.GDP.PETR.RT.ZS', 'TM.VAL.FUEL.ZS.UN','TX.VAL.FUEL.ZS.UN']"
      ],
      "metadata": {
        "id": "DhKq4mraV__B"
      },
      "execution_count": null,
      "outputs": []
    },
    {
      "cell_type": "code",
      "source": [
        "# A_1 = wb.data.DataFrame(A1, time=range(2016, 2022, 1), labels=True)\n",
        "# A_2 = wb.data.DataFrame(A1, time=range(2016, 2022, 1), labels=True)\n",
        "# A_3 = wb.data.DataFrame(A1, time=range(2016, 2022, 1), labels=True)\n",
        "# A_4 = wb.data.DataFrame(A1, time=range(2016, 2022, 1), labels=True)\n",
        "# A_ = wb.data.DataFrame(A1, time=range(2016, 2022, 1), labels=True)\n",
        "# A_1 = wb.data.DataFrame(A1, time=range(2016, 2022, 1), labels=True)\n"
      ],
      "metadata": {
        "id": "SFKVLfAt4mlK"
      },
      "execution_count": null,
      "outputs": []
    },
    {
      "cell_type": "markdown",
      "source": [
        "### **CHARTING & PLOTTING**"
      ],
      "metadata": {
        "id": "4QmIJHAa5CEh"
      }
    },
    {
      "cell_type": "code",
      "source": [
        "wb.data.DataFrame('NY.GDP.PCAP.CD', ['BRA', 'ARG', 'COL'],\n",
        "                  range(2000, 2020), index='time').plot(figsize=(10, 6))\n",
        "plt.show()"
      ],
      "metadata": {
        "colab": {
          "base_uri": "https://localhost:8080/",
          "height": 388
        },
        "id": "X2SsbQ7J49cT",
        "outputId": "2a4560f4-94db-42ee-8d97-b831b2b75d1f"
      },
      "execution_count": null,
      "outputs": [
        {
          "output_type": "display_data",
          "data": {
            "text/plain": [
              "<Figure size 720x432 with 1 Axes>"
            ],
            "image/png": "[encoded data removed]"
          },
          "metadata": {
            "needs_background": "light"
          }
        }
      ]
    },
    {
      "cell_type": "markdown",
      "source": [
        "### **QUERY**"
      ],
      "metadata": {
        "id": "SFUK7ppk5ZkJ"
      }
    },
    {
      "cell_type": "code",
      "source": [
        "variables = []"
      ],
      "metadata": {
        "id": "LbRhQWqB5iuh"
      },
      "execution_count": null,
      "outputs": []
    },
    {
      "cell_type": "code",
      "source": [
        "df = wb.data.DataFrame('SP.POP.TOTL', 'BRA', db=57, time=range(2000, 2020),\n",
        "                       version=range(201004, 202004, 100), index='time')\n",
        "df"
      ],
      "metadata": {
        "colab": {
          "base_uri": "https://localhost:8080/",
          "height": 708
        },
        "id": "ZCHwV8XQ5Ytx",
        "outputId": "52948a03-01e6-4850-84aa-30dacb6fef9c"
      },
      "execution_count": null,
      "outputs": [
        {
          "output_type": "execute_result",
          "data": {
            "text/plain": [
              "             201004       201104       201204       201304       201404  \\\n",
              "time                                                                      \n",
              "YR2000  174174447.0  174174447.0  174425387.0  174425387.0  174504898.0   \n",
              "YR2001  176659138.0  176659138.0  176877135.0  176877135.0  176968205.0   \n",
              "YR2002  179123364.0  179123364.0  179289227.0  179289227.0  179393768.0   \n",
              "YR2003  181537359.0  181537359.0  181633074.0  181633074.0  181752951.0   \n",
              "YR2004  183863524.0  183863524.0  183873377.0  183873377.0  184010283.0   \n",
              "YR2005  186074634.0  186074634.0  185986964.0  185986964.0  186142403.0   \n",
              "YR2006  188158438.0  188158438.0  187958211.0  187958211.0  188134315.0   \n",
              "YR2007  190119995.0  190119995.0  189798070.0  189798070.0  189996976.0   \n",
              "YR2008  191971506.0  191971506.0  191543237.0  191543237.0  191765567.0   \n",
              "YR2009          NaN  193733795.0  193246610.0  193246610.0  193490922.0   \n",
              "YR2010          NaN          NaN  194946000.0  194946470.0  195210154.0   \n",
              "YR2011          NaN          NaN          NaN  196655014.0  196935134.0   \n",
              "YR2012          NaN          NaN          NaN          NaN  198656019.0   \n",
              "YR2013          NaN          NaN          NaN          NaN          NaN   \n",
              "YR2014          NaN          NaN          NaN          NaN          NaN   \n",
              "YR2015          NaN          NaN          NaN          NaN          NaN   \n",
              "YR2016          NaN          NaN          NaN          NaN          NaN   \n",
              "YR2017          NaN          NaN          NaN          NaN          NaN   \n",
              "YR2018          NaN          NaN          NaN          NaN          NaN   \n",
              "YR2019          NaN          NaN          NaN          NaN          NaN   \n",
              "\n",
              "             201504       201604       201704       201804       201904  \n",
              "time                                                                     \n",
              "YR2000  174504898.0  175786441.0  175786441.0  175287587.0  175287587.0  \n",
              "YR2001  176968205.0  178419396.0  178419396.0  177750670.0  177750670.0  \n",
              "YR2002  179393768.0  181045592.0  181045592.0  180151021.0  180151021.0  \n",
              "YR2003  181752951.0  183627339.0  183627339.0  182482149.0  182482149.0  \n",
              "YR2004  184010283.0  186116363.0  186116363.0  184738458.0  184738458.0  \n",
              "YR2005  186142403.0  188479240.0  188479240.0  186917361.0  186917361.0  \n",
              "YR2006  188134315.0  190698241.0  190698241.0  189012412.0  189012412.0  \n",
              "YR2007  189996976.0  192784521.0  192784521.0  191026637.0  191026637.0  \n",
              "YR2008  191765567.0  194769696.0  194769696.0  192979029.0  192979029.0  \n",
              "YR2009  193490922.0  196701298.0  196701298.0  194895996.0  194895996.0  \n",
              "YR2010  195210154.0  198614208.0  198614208.0  196796269.0  196796269.0  \n",
              "YR2011  196935134.0  200517584.0  200517584.0  198686688.0  198686688.0  \n",
              "YR2012  198656019.0  202401584.0  202401584.0  200560983.0  200560983.0  \n",
              "YR2013  200361925.0  204259377.0  204259377.0  202408632.0  202408632.0  \n",
              "YR2014          NaN  206077898.0  206077898.0  204213133.0  204213133.0  \n",
              "YR2015          NaN          NaN  207847528.0  205962108.0  205962108.0  \n",
              "YR2016          NaN          NaN          NaN  207652865.0  207652865.0  \n",
              "YR2017          NaN          NaN          NaN  209288000.0  209288278.0  \n",
              "YR2018          NaN          NaN          NaN          NaN  210868000.0  \n",
              "YR2019          NaN          NaN          NaN          NaN          NaN  "
            ],
            "text/html": [
              "\n",
              "  <div id=\"df-1e7bf8b0-cc82-43d9-8705-8000db1bcd14\">\n",
              "    <div class=\"colab-df-container\">\n",
              "      <div>\n",
              "<style scoped>\n",
              "    .dataframe tbody tr th:only-of-type {\n",
              "        vertical-align: middle;\n",
              "    }\n",
              "\n",
              "    .dataframe tbody tr th {\n",
              "        vertical-align: top;\n",
              "    }\n",
              "\n",
              "    .dataframe thead th {\n",
              "        text-align: right;\n",
              "    }\n",
              "</style>\n",
              "<table border=\"1\" class=\"dataframe\">\n",
              "  <thead>\n",
              "    <tr style=\"text-align: right;\">\n",
              "      <th></th>\n",
              "      <th>201004</th>\n",
              "      <th>201104</th>\n",
              "      <th>201204</th>\n",
              "      <th>201304</th>\n",
              "      <th>201404</th>\n",
              "      <th>201504</th>\n",
              "      <th>201604</th>\n",
              "      <th>201704</th>\n",
              "      <th>201804</th>\n",
              "      <th>201904</th>\n",
              "    </tr>\n",
              "    <tr>\n",
              "      <th>time</th>\n",
              "      <th></th>\n",
              "      <th></th>\n",
              "      <th></th>\n",
              "      <th></th>\n",
              "      <th></th>\n",
              "      <th></th>\n",
              "      <th></th>\n",
              "      <th></th>\n",
              "      <th></th>\n",
              "      <th></th>\n",
              "    </tr>\n",
              "  </thead>\n",
              "  <tbody>\n",
              "    <tr>\n",
              "      <th>YR2000</th>\n",
              "      <td>174174447.0</td>\n",
              "      <td>174174447.0</td>\n",
              "      <td>174425387.0</td>\n",
              "      <td>174425387.0</td>\n",
              "      <td>174504898.0</td>\n",
              "      <td>174504898.0</td>\n",
              "      <td>175786441.0</td>\n",
              "      <td>175786441.0</td>\n",
              "      <td>175287587.0</td>\n",
              "      <td>175287587.0</td>\n",
              "    </tr>\n",
              "    <tr>\n",
              "      <th>YR2001</th>\n",
              "      <td>176659138.0</td>\n",
              "      <td>176659138.0</td>\n",
              "      <td>176877135.0</td>\n",
              "      <td>176877135.0</td>\n",
              "      <td>176968205.0</td>\n",
              "      <td>176968205.0</td>\n",
              "      <td>178419396.0</td>\n",
              "      <td>178419396.0</td>\n",
              "      <td>177750670.0</td>\n",
              "      <td>177750670.0</td>\n",
              "    </tr>\n",
              "    <tr>\n",
              "      <th>YR2002</th>\n",
              "      <td>179123364.0</td>\n",
              "      <td>179123364.0</td>\n",
              "      <td>179289227.0</td>\n",
              "      <td>179289227.0</td>\n",
              "      <td>179393768.0</td>\n",
              "      <td>179393768.0</td>\n",
              "      <td>181045592.0</td>\n",
              "      <td>181045592.0</td>\n",
              "      <td>180151021.0</td>\n",
              "      <td>180151021.0</td>\n",
              "    </tr>\n",
              "    <tr>\n",
              "      <th>YR2003</th>\n",
              "      <td>181537359.0</td>\n",
              "      <td>181537359.0</td>\n",
              "      <td>181633074.0</td>\n",
              "      <td>181633074.0</td>\n",
              "      <td>181752951.0</td>\n",
              "      <td>181752951.0</td>\n",
              "      <td>183627339.0</td>\n",
              "      <td>183627339.0</td>\n",
              "      <td>182482149.0</td>\n",
              "      <td>182482149.0</td>\n",
              "    </tr>\n",
              "    <tr>\n",
              "      <th>YR2004</th>\n",
              "      <td>183863524.0</td>\n",
              "      <td>183863524.0</td>\n",
              "      <td>183873377.0</td>\n",
              "      <td>183873377.0</td>\n",
              "      <td>184010283.0</td>\n",
              "      <td>184010283.0</td>\n",
              "      <td>186116363.0</td>\n",
              "      <td>186116363.0</td>\n",
              "      <td>184738458.0</td>\n",
              "      <td>184738458.0</td>\n",
              "    </tr>\n",
              "    <tr>\n",
              "      <th>YR2005</th>\n",
              "      <td>186074634.0</td>\n",
              "      <td>186074634.0</td>\n",
              "      <td>185986964.0</td>\n",
              "      <td>185986964.0</td>\n",
              "      <td>186142403.0</td>\n",
              "      <td>186142403.0</td>\n",
              "      <td>188479240.0</td>\n",
              "      <td>188479240.0</td>\n",
              "      <td>186917361.0</td>\n",
              "      <td>186917361.0</td>\n",
              "    </tr>\n",
              "    <tr>\n",
              "      <th>YR2006</th>\n",
              "      <td>188158438.0</td>\n",
              "      <td>188158438.0</td>\n",
              "      <td>187958211.0</td>\n",
              "      <td>187958211.0</td>\n",
              "      <td>188134315.0</td>\n",
              "      <td>188134315.0</td>\n",
              "      <td>190698241.0</td>\n",
              "      <td>190698241.0</td>\n",
              "      <td>189012412.0</td>\n",
              "      <td>189012412.0</td>\n",
              "    </tr>\n",
              "    <tr>\n",
              "      <th>YR2007</th>\n",
              "      <td>190119995.0</td>\n",
              "      <td>190119995.0</td>\n",
              "      <td>189798070.0</td>\n",
              "      <td>189798070.0</td>\n",
              "      <td>189996976.0</td>\n",
              "      <td>189996976.0</td>\n",
              "      <td>192784521.0</td>\n",
              "      <td>192784521.0</td>\n",
              "      <td>191026637.0</td>\n",
              "      <td>191026637.0</td>\n",
              "    </tr>\n",
              "    <tr>\n",
              "      <th>YR2008</th>\n",
              "      <td>191971506.0</td>\n",
              "      <td>191971506.0</td>\n",
              "      <td>191543237.0</td>\n",
              "      <td>191543237.0</td>\n",
              "      <td>191765567.0</td>\n",
              "      <td>191765567.0</td>\n",
              "      <td>194769696.0</td>\n",
              "      <td>194769696.0</td>\n",
              "      <td>192979029.0</td>\n",
              "      <td>192979029.0</td>\n",
              "    </tr>\n",
              "    <tr>\n",
              "      <th>YR2009</th>\n",
              "      <td>NaN</td>\n",
              "      <td>193733795.0</td>\n",
              "      <td>193246610.0</td>\n",
              "      <td>193246610.0</td>\n",
              "      <td>193490922.0</td>\n",
              "      <td>193490922.0</td>\n",
              "      <td>196701298.0</td>\n",
              "      <td>196701298.0</td>\n",
              "      <td>194895996.0</td>\n",
              "      <td>194895996.0</td>\n",
              "    </tr>\n",
              "    <tr>\n",
              "      <th>YR2010</th>\n",
              "      <td>NaN</td>\n",
              "      <td>NaN</td>\n",
              "      <td>194946000.0</td>\n",
              "      <td>194946470.0</td>\n",
              "      <td>195210154.0</td>\n",
              "      <td>195210154.0</td>\n",
              "      <td>198614208.0</td>\n",
              "      <td>198614208.0</td>\n",
              "      <td>196796269.0</td>\n",
              "      <td>196796269.0</td>\n",
              "    </tr>\n",
              "    <tr>\n",
              "      <th>YR2011</th>\n",
              "      <td>NaN</td>\n",
              "      <td>NaN</td>\n",
              "      <td>NaN</td>\n",
              "      <td>196655014.0</td>\n",
              "      <td>196935134.0</td>\n",
              "      <td>196935134.0</td>\n",
              "      <td>200517584.0</td>\n",
              "      <td>200517584.0</td>\n",
              "      <td>198686688.0</td>\n",
              "      <td>198686688.0</td>\n",
              "    </tr>\n",
              "    <tr>\n",
              "      <th>YR2012</th>\n",
              "      <td>NaN</td>\n",
              "      <td>NaN</td>\n",
              "      <td>NaN</td>\n",
              "      <td>NaN</td>\n",
              "      <td>198656019.0</td>\n",
              "      <td>198656019.0</td>\n",
              "      <td>202401584.0</td>\n",
              "      <td>202401584.0</td>\n",
              "      <td>200560983.0</td>\n",
              "      <td>200560983.0</td>\n",
              "    </tr>\n",
              "    <tr>\n",
              "      <th>YR2013</th>\n",
              "      <td>NaN</td>\n",
              "      <td>NaN</td>\n",
              "      <td>NaN</td>\n",
              "      <td>NaN</td>\n",
              "      <td>NaN</td>\n",
              "      <td>200361925.0</td>\n",
              "      <td>204259377.0</td>\n",
              "      <td>204259377.0</td>\n",
              "      <td>202408632.0</td>\n",
              "      <td>202408632.0</td>\n",
              "    </tr>\n",
              "    <tr>\n",
              "      <th>YR2014</th>\n",
              "      <td>NaN</td>\n",
              "      <td>NaN</td>\n",
              "      <td>NaN</td>\n",
              "      <td>NaN</td>\n",
              "      <td>NaN</td>\n",
              "      <td>NaN</td>\n",
              "      <td>206077898.0</td>\n",
              "      <td>206077898.0</td>\n",
              "      <td>204213133.0</td>\n",
              "      <td>204213133.0</td>\n",
              "    </tr>\n",
              "    <tr>\n",
              "      <th>YR2015</th>\n",
              "      <td>NaN</td>\n",
              "      <td>NaN</td>\n",
              "      <td>NaN</td>\n",
              "      <td>NaN</td>\n",
              "      <td>NaN</td>\n",
              "      <td>NaN</td>\n",
              "      <td>NaN</td>\n",
              "      <td>207847528.0</td>\n",
              "      <td>205962108.0</td>\n",
              "      <td>205962108.0</td>\n",
              "    </tr>\n",
              "    <tr>\n",
              "      <th>YR2016</th>\n",
              "      <td>NaN</td>\n",
              "      <td>NaN</td>\n",
              "      <td>NaN</td>\n",
              "      <td>NaN</td>\n",
              "      <td>NaN</td>\n",
              "      <td>NaN</td>\n",
              "      <td>NaN</td>\n",
              "      <td>NaN</td>\n",
              "      <td>207652865.0</td>\n",
              "      <td>207652865.0</td>\n",
              "    </tr>\n",
              "    <tr>\n",
              "      <th>YR2017</th>\n",
              "      <td>NaN</td>\n",
              "      <td>NaN</td>\n",
              "      <td>NaN</td>\n",
              "      <td>NaN</td>\n",
              "      <td>NaN</td>\n",
              "      <td>NaN</td>\n",
              "      <td>NaN</td>\n",
              "      <td>NaN</td>\n",
              "      <td>209288000.0</td>\n",
              "      <td>209288278.0</td>\n",
              "    </tr>\n",
              "    <tr>\n",
              "      <th>YR2018</th>\n",
              "      <td>NaN</td>\n",
              "      <td>NaN</td>\n",
              "      <td>NaN</td>\n",
              "      <td>NaN</td>\n",
              "      <td>NaN</td>\n",
              "      <td>NaN</td>\n",
              "      <td>NaN</td>\n",
              "      <td>NaN</td>\n",
              "      <td>NaN</td>\n",
              "      <td>210868000.0</td>\n",
              "    </tr>\n",
              "    <tr>\n",
              "      <th>YR2019</th>\n",
              "      <td>NaN</td>\n",
              "      <td>NaN</td>\n",
              "      <td>NaN</td>\n",
              "      <td>NaN</td>\n",
              "      <td>NaN</td>\n",
              "      <td>NaN</td>\n",
              "      <td>NaN</td>\n",
              "      <td>NaN</td>\n",
              "      <td>NaN</td>\n",
              "      <td>NaN</td>\n",
              "    </tr>\n",
              "  </tbody>\n",
              "</table>\n",
              "</div>\n",
              "      <button class=\"colab-df-convert\" onclick=\"convertToInteractive('df-1e7bf8b0-cc82-43d9-8705-8000db1bcd14')\"\n",
              "              title=\"Convert this dataframe to an interactive table.\"\n",
              "              style=\"display:none;\">\n",
              "        \n",
              "  <svg xmlns=\"http://www.w3.org/2000/svg\" height=\"24px\"viewBox=\"0 0 24 24\"\n",
              "       width=\"24px\">\n",
              "    <path d=\"M0 0h24v24H0V0z\" fill=\"none\"/>\n",
              "    <path d=\"M18.56 5.44l.94 2.06.94-2.06 2.06-.94-2.06-.94-.94-2.06-.94 2.06-2.06.94zm-11 1L8.5 8.5l.94-2.06 2.06-.94-2.06-.94L8.5 2.5l-.94 2.06-2.06.94zm10 10l.94 2.06.94-2.06 2.06-.94-2.06-.94-.94-2.06-.94 2.06-2.06.94z\"/><path d=\"M17.41 7.96l-1.37-1.37c-.4-.4-.92-.59-1.43-.59-.52 0-1.04.2-1.43.59L10.3 9.45l-7.72 7.72c-.78.78-.78 2.05 0 2.83L4 21.41c.39.39.9.59 1.41.59.51 0 1.02-.2 1.41-.59l7.78-7.78 2.81-2.81c.8-.78.8-2.07 0-2.86zM5.41 20L4 18.59l7.72-7.72 1.47 1.35L5.41 20z\"/>\n",
              "  </svg>\n",
              "      </button>\n",
              "      \n",
              "  <style>\n",
              "    .colab-df-container {\n",
              "      display:flex;\n",
              "      flex-wrap:wrap;\n",
              "      gap: 12px;\n",
              "    }\n",
              "\n",
              "    .colab-df-convert {\n",
              "      background-color: #E8F0FE;\n",
              "      border: none;\n",
              "      border-radius: 50%;\n",
              "      cursor: pointer;\n",
              "      display: none;\n",
              "      fill: #1967D2;\n",
              "      height: 32px;\n",
              "      padding: 0 0 0 0;\n",
              "      width: 32px;\n",
              "    }\n",
              "\n",
              "    .colab-df-convert:hover {\n",
              "      background-color: #E2EBFA;\n",
              "      box-shadow: 0px 1px 2px rgba(60, 64, 67, 0.3), 0px 1px 3px 1px rgba(60, 64, 67, 0.15);\n",
              "      fill: #174EA6;\n",
              "    }\n",
              "\n",
              "    [theme=dark] .colab-df-convert {\n",
              "      background-color: #3B4455;\n",
              "      fill: #D2E3FC;\n",
              "    }\n",
              "\n",
              "    [theme=dark] .colab-df-convert:hover {\n",
              "      background-color: #434B5C;\n",
              "      box-shadow: 0px 1px 3px 1px rgba(0, 0, 0, 0.15);\n",
              "      filter: drop-shadow(0px 1px 2px rgba(0, 0, 0, 0.3));\n",
              "      fill: #FFFFFF;\n",
              "    }\n",
              "  </style>\n",
              "\n",
              "      <script>\n",
              "        const buttonEl =\n",
              "          document.querySelector('#df-1e7bf8b0-cc82-43d9-8705-8000db1bcd14 button.colab-df-convert');\n",
              "        buttonEl.style.display =\n",
              "          google.colab.kernel.accessAllowed ? 'block' : 'none';\n",
              "\n",
              "        async function convertToInteractive(key) {\n",
              "          const element = document.querySelector('#df-1e7bf8b0-cc82-43d9-8705-8000db1bcd14');\n",
              "          const dataTable =\n",
              "            await google.colab.kernel.invokeFunction('convertToInteractive',\n",
              "                                                     [key], {});\n",
              "          if (!dataTable) return;\n",
              "\n",
              "          const docLinkHtml = 'Like what you see? Visit the ' +\n",
              "            '<a target=\"_blank\" href=https://colab.research.google.com/notebooks/data_table.ipynb>data table notebook</a>'\n",
              "            + ' to learn more about interactive tables.';\n",
              "          element.innerHTML = '';\n",
              "          dataTable['output_type'] = 'display_data';\n",
              "          await google.colab.output.renderOutput(dataTable, element);\n",
              "          const docLink = document.createElement('div');\n",
              "          docLink.innerHTML = docLinkHtml;\n",
              "          element.appendChild(docLink);\n",
              "        }\n",
              "      </script>\n",
              "    </div>\n",
              "  </div>\n",
              "  "
            ]
          },
          "metadata": {},
          "execution_count": 7
        }
      ]
    },
    {
      "cell_type": "code",
      "source": [
        ""
      ],
      "metadata": {
        "id": "5Af2PLdt5Pen"
      },
      "execution_count": null,
      "outputs": []
    }
  ]
}